{
 "cells": [
  {
   "cell_type": "markdown",
   "id": "cb3328fb",
   "metadata": {},
   "source": [
    "# Task 1: Find the Largest Number"
   ]
  },
  {
   "cell_type": "code",
   "execution_count": 4,
   "id": "2990678b",
   "metadata": {},
   "outputs": [],
   "source": [
    "import qiskit\n",
    "\n",
    "import matplotlib.pyplot as plt\n",
    "import numpy as np\n",
    "\n",
    "from qiskit import QuantumCircuit, Aer, assemble\n",
    "from qiskit.extensions import UnitaryGate\n",
    "from qiskit.visualization import plot_histogram"
   ]
  },
  {
   "cell_type": "markdown",
   "id": "d50e7da3",
   "metadata": {},
   "source": [
    "## Grover's Search Algorithm\n",
    "\n",
    "As was suggested in the associated references I used Grover's search alogrithm to solve this problem.\n",
    "\n",
    "Grover's search algorithm searches an unordered dataset in O(√N), an improvement over the classical O(N) time. This is achieved in 3 main steps:\n",
    "1. Place the circuit in superpostion (by the use of hadamard gates)\n",
    "1. Applying an oracle to invert the amplited/phase of the target value(s)\n",
    "1. Reflecting about the mean, thereby making the target values(s) the most probable\n",
    "\n",
    "Steps 2 and 3 are repeated √N times to find the correct value with a high probability (N being array size)"
   ]
  },
  {
   "cell_type": "markdown",
   "id": "a4bb48a2",
   "metadata": {},
   "source": [
    "## My Implementation\n",
    "\n",
    "Below is my implementation, split into 2 parts:\n",
    "1. make_oracle function that takes the 2 values and creates and oracle that finds the larger one\n",
    "1. find_larget_number function which uses grover's search alogorithm to find the larger value by treating the two values as an array with a value that needs to be found"
   ]
  },
  {
   "cell_type": "code",
   "execution_count": 125,
   "id": "24302bb2",
   "metadata": {},
   "outputs": [],
   "source": [
    "def make_oracle(number_1, number_2):\n",
    "    \"\"\"\n",
    "    The oracle is a 'black box'\n",
    "    \n",
    "    In grover's algorithm its job is to invert the phase of the value searched for, in\n",
    "    this case the greator value\n",
    "    \"\"\"\n",
    "    \n",
    "    if number_1 > number_2:\n",
    "        oracle_unitary = [[-1, 0, 0, 0],\n",
    "                          [0, 1, 0, 0],\n",
    "                          [0, 0, 1, 0],\n",
    "                          [0, 0, 0, 1]]\n",
    "    else:\n",
    "        oracle_unitary = [[1, 0, 0, 0],\n",
    "                          [0, -1, 0, 0],\n",
    "                          [0, 0, 1, 0],\n",
    "                          [0, 0, 0, 1]]\n",
    "        \n",
    "    return UnitaryGate(oracle_unitary, label='Oracle')"
   ]
  },
  {
   "cell_type": "code",
   "execution_count": 126,
   "id": "9dbfad31",
   "metadata": {},
   "outputs": [],
   "source": [
    "def find_the_largest_number(number_1, number_2):\n",
    "    \"\"\"\n",
    "    Find the larger of 2 values using grover's search algorithm\n",
    "    \"\"\"\n",
    "    \n",
    "    # Initialise circuit\n",
    "    qc = QuantumCircuit(2,1)\n",
    "    \n",
    "    # Place all qubits in superpostion\n",
    "    qc.h(0)\n",
    "    qc.h(1)\n",
    "    \n",
    "    # Apply oracle, inverting phase of target (larger) qubit\n",
    "    qc.append(make_oracle(number_1, number_2), [0,1])\n",
    "    \n",
    "    # Flip about mean\n",
    "    qc.h(0)\n",
    "    qc.h(1)\n",
    "    \n",
    "    # Repeat to further amplify\n",
    "    qc.append(make_oracle(number_1, number_2), [0,1])\n",
    "    \n",
    "    # Flip about mean\n",
    "    qc.h(0)\n",
    "    qc.h(1)\n",
    "    \n",
    "    # Measure\n",
    "    qc.measure(0, 0)\n",
    "    \n",
    "    # Run simulation\n",
    "    aer_sim = Aer.get_backend('aer_simulator')\n",
    "    qobj = assemble(qc)\n",
    "    result = aer_sim.run(qobj).result()\n",
    "    counts = result.get_counts()\n",
    "    \n",
    "    # Use results to find largest value, treating inputted numbers as an array\n",
    "    largest_value_index = int(counts.most_frequent())\n",
    "    \n",
    "    value_array = [number_1, number_2]\n",
    "    \n",
    "    return value_array[largest_value_index]"
   ]
  },
  {
   "cell_type": "code",
   "execution_count": 127,
   "id": "a6b738d4",
   "metadata": {},
   "outputs": [
    {
     "name": "stdout",
     "output_type": "stream",
     "text": [
      "5\n",
      "5\n",
      "100\n",
      "-10\n"
     ]
    }
   ],
   "source": [
    "# Testing the function with some sample values\n",
    "A = find_the_largest_number(5, -6)\n",
    "print(A)\n",
    "\n",
    "B = find_the_largest_number(-6, 5)\n",
    "print(B)\n",
    "\n",
    "C = find_the_largest_number(10, 100)\n",
    "print(C)\n",
    "\n",
    "C = find_the_largest_number(-10, -100)\n",
    "print(C)"
   ]
  },
  {
   "cell_type": "markdown",
   "id": "f957c174",
   "metadata": {},
   "source": [
    "## Explanation\n",
    "Here is a circuit diagram:"
   ]
  },
  {
   "cell_type": "code",
   "execution_count": 130,
   "id": "7728a1ec",
   "metadata": {},
   "outputs": [
    {
     "data": {
      "text/html": [
       "<pre style=\"word-wrap: normal;white-space: pre;background: #fff0;line-height: 1.1;font-family: &quot;Courier New&quot;,Courier,monospace\">      1. ┌───┐ 2. ┌─────────┐ 3. ┌───┐ Repeat ┌─────────┐┌───┐┌─┐\n",
       "q_0: ─░──┤ H ├─░──┤0        ├─░──┤ H ├───░────┤0        ├┤ H ├┤M├\n",
       "      ░  ├───┤ ░  │  Oracle │ ░  ├───┤   ░    │  Oracle │├───┤└╥┘\n",
       "q_1: ─░──┤ H ├─░──┤1        ├─░──┤ H ├───░────┤1        ├┤ H ├─╫─\n",
       "      ░  └───┘ ░  └─────────┘ ░  └───┘   ░    └─────────┘└───┘ ║ \n",
       "c: 1/══════════════════════════════════════════════════════════╩═\n",
       "                                                               0 </pre>"
      ],
      "text/plain": [
       "      1. ┌───┐ 2. ┌─────────┐ 3. ┌───┐ Repeat ┌─────────┐┌───┐┌─┐\n",
       "q_0: ─░──┤ H ├─░──┤0        ├─░──┤ H ├───░────┤0        ├┤ H ├┤M├\n",
       "      ░  ├───┤ ░  │  Oracle │ ░  ├───┤   ░    │  Oracle │├───┤└╥┘\n",
       "q_1: ─░──┤ H ├─░──┤1        ├─░──┤ H ├───░────┤1        ├┤ H ├─╫─\n",
       "      ░  └───┘ ░  └─────────┘ ░  └───┘   ░    └─────────┘└───┘ ║ \n",
       "c: 1/══════════════════════════════════════════════════════════╩═\n",
       "                                                               0 "
      ]
     },
     "execution_count": 130,
     "metadata": {},
     "output_type": "execute_result"
    }
   ],
   "source": [
    "qc = QuantumCircuit(2,1)\n",
    "\n",
    "# Place all qubits in superpostion\n",
    "qc.barrier(label='1.')\n",
    "qc.h(0)\n",
    "qc.h(1)\n",
    "\n",
    "# Apply oracle, inverting phase of target (larger) qubit\n",
    "qc.barrier(label='2.')\n",
    "qc.append(make_oracle(0, 1), [0,1])\n",
    "\n",
    "# Flip about mean\n",
    "qc.barrier(label='3.')\n",
    "qc.h(0)\n",
    "qc.h(1)\n",
    "\n",
    "# Repeat to further amplify\n",
    "qc.barrier(label='Repeat')\n",
    "qc.append(make_oracle(0, 1), [0,1])\n",
    "\n",
    "# Flip about mean\n",
    "qc.h(0)\n",
    "qc.h(1)\n",
    "\n",
    "# Measure\n",
    "qc.measure(0, 0)\n",
    "    \n",
    "qc.draw()"
   ]
  },
  {
   "cell_type": "markdown",
   "id": "0746f897",
   "metadata": {},
   "source": [
    "Firstly the circuit is initiated as 2 qubits and a single classical bit (for measurement) and put into superpostion with Hadamard gates\n",
    "\n",
    "Next the oracle is queried and supplies us with a unitary matrix that flips the amplitude of the value we're looking for. Its action can be described as:\n",
    "\n",
    "\n",
    "\n",
    "Reflecting about the mean would not work with only one qubit as after applying the oracle its mean is 0, so there would be no probability change. To resolve this I introduced an ancilla qubit. This draws the probability away from 0 allowing the 'reflection' to function properly. \n",
    "\n",
    "Amplification is performed twice as, using the ancilla qubit, the simulated array size is 4, there by needing √4 repititions.\n",
    "\n",
    "\n",
    "`f(|x>) = { -|x> if x = w \n",
    "          {  |x> if x ≠ w`\n",
    "          \n",
    "I'm looking forward to working & learning with you all! :)"
   ]
  },
  {
   "cell_type": "markdown",
   "id": "8b387771",
   "metadata": {},
   "source": [
    "### Sources\n",
    "\tA Quantum Algorithm for finding the Maximum: arXiv:quant-ph/9911082\n",
    "    A Quantum Algorithm for Finding the Minimum: arXiv:quant-ph/9607014\n",
    "    A fast quantum mechanical algorithm for database search: arXiv:quant-ph/9605043"
   ]
  }
 ],
 "metadata": {
  "kernelspec": {
   "display_name": "Python 3",
   "language": "python",
   "name": "python3"
  },
  "language_info": {
   "codemirror_mode": {
    "name": "ipython",
    "version": 3
   },
   "file_extension": ".py",
   "mimetype": "text/x-python",
   "name": "python",
   "nbconvert_exporter": "python",
   "pygments_lexer": "ipython3",
   "version": "3.8.8"
  }
 },
 "nbformat": 4,
 "nbformat_minor": 5
}
